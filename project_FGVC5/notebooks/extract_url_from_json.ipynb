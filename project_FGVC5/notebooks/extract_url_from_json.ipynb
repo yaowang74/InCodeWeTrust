{
 "cells": [
  {
   "cell_type": "code",
   "execution_count": 1,
   "metadata": {},
   "outputs": [],
   "source": [
    "\"\"\"A script to handle kaggle FGVC5 json files\n",
    "\n",
    "   moduleauthor:: InCodeWeTrust\n",
    "\n",
    "\"\"\"\n",
    "\n",
    "import requests\n",
    "import time\n",
    "import json\n",
    "import pandas as pd\n",
    "# from PIL import Image\n",
    "# from io import BytesIO\n",
    "\n",
    "JSON_FILE_PATH = \"/home/wyao/github/InCodeWeTrust/project_FGVC5/data/input/\"\n",
    "IMAGE_PATH = \"/home/wyao/github/InCodeWeTrust/project_FGVC5/data/working/\"\n",
    "TRAIN_FILE_NAME = \"train.json\"\n",
    "TEST_FILE_NAME = \"test.json\"\n",
    "VALI_FILE_NAME = \"validation.json\"\n",
    "MAX_RETRY = 3\n",
    "\n",
    "train_image_file = JSON_FILE_PATH + TRAIN_FILE_NAME\n",
    "# print(image_url_file)"
   ]
  },
  {
   "cell_type": "code",
   "execution_count": 2,
   "metadata": {
    "collapsed": true
   },
   "outputs": [],
   "source": [
    "def parse_json(json_file, json_key):\n",
    "    \"\"\"This function extracts image urls from json file.\n",
    "    \n",
    "    :param json_file: the full path of json file\n",
    "    :type name: str\n",
    "    :param json_key: component to be extract from input json file. \n",
    "                Possible values are ['images','annotation'].\n",
    "    :type json_key: str\n",
    "    :returns: pandas data frame with image id and url.\n",
    "    \n",
    "    \"\"\"\n",
    "    with open(train_image_file, 'r') as f:\n",
    "        image_dict = json.load(f)\n",
    "    print(image_dict.keys())\n",
    "\n",
    "    if (json_key not in ['images','annotations']):\n",
    "        raise ValueError(\"Invalid input argument: json_key.\")\n",
    "    if (json_key == 'images'):\n",
    "        image_url_df = pd.DataFrame(image_dict['images'])\n",
    "        image_url_df.url = image_url_df.url.apply(lambda x: x[0])\n",
    "        print(image_url_df.head())\n",
    "        return image_url_df\n",
    "    elif (json_key == 'annotations'):\n",
    "        image_annotation_df = pd.DataFrame(image_dict['annotations'])\n",
    "        print(image_annotation_df.head())\n",
    "        return image_annotation_df\n"
   ]
  },
  {
   "cell_type": "code",
   "execution_count": 3,
   "metadata": {
    "scrolled": true
   },
   "outputs": [
    {
     "name": "stdout",
     "output_type": "stream",
     "text": [
      "dict_keys(['annotations', 'images'])\n",
      "   image_id                                                url\n",
      "0         1  https://img13.360buyimg.com/imgzone/jfs/t2857/...\n",
      "1         2  http://www.tengdakeli.cn/350/timg01/uploaded/i...\n",
      "2         3  https://img13.360buyimg.com/imgzone/jfs/t8899/...\n",
      "3         4  http://img4.tbcdn.cn/tfscom/i1/2855447419/TB2S...\n",
      "4         5  http://a.vpimg4.com/upload/merchandise/287883/...\n",
      "dict_keys(['annotations', 'images'])\n",
      "   image_id  label_id\n",
      "0         1         5\n",
      "1         2         5\n",
      "2         3         5\n",
      "3         4         5\n",
      "4         5         5\n"
     ]
    }
   ],
   "source": [
    "image_url_df = parse_json(train_image_file, 'images')\n",
    "image_annotations_df = parse_json(train_image_file, 'annotations')\n",
    "image_annotations_df.to_csv(JSON_FILE_PATH + \"train_label.csv\",\n",
    "                            index=False)"
   ]
  },
  {
   "cell_type": "code",
   "execution_count": 4,
   "metadata": {},
   "outputs": [
    {
     "name": "stdout",
     "output_type": "stream",
     "text": [
      "Saved image: TB2SJwwdxeK.eBjSZFlXXaywXXa_!!2855447419.jpg as 4.jpg.\n"
     ]
    }
   ],
   "source": [
    "def show_image_by_id(image_dataframe, image_id, save = False):\n",
    "    \"\"\"This function show image by id.\n",
    "    \n",
    "    :param image_dataframe: a data frame contains image id and image url.\n",
    "    :type image_dataframe: pandas data frame\n",
    "    :param image_id: a positive integer that represents image id\n",
    "    :type image_id: integer\n",
    "    :parame save: boolean argument indicating if the image will be saved\n",
    "    :type save: boolean\n",
    "    :returns: image object\n",
    "    \n",
    "    \"\"\"\n",
    "    image_index = image_id - 1\n",
    "\n",
    "    url = image_dataframe.iloc[image_index]['url']\n",
    "    if url.find('/'):\n",
    "        original_image_name = url.rsplit('/', 1)[1]\n",
    "        image_data = requests.get(url).content\n",
    "        new_image_name = str(image_id) + '.jpg'\n",
    "        new_image_path = IMAGE_PATH + new_image_name\n",
    "        if (save):\n",
    "            with open(new_image_path, 'wb') as handler:\n",
    "                handler.write(image_data)\n",
    "            print(\"Saved image: {} as {}.\".format(original_image_name,\n",
    "                                                  new_image_name))\n",
    "        else:\n",
    "            img = Image.open(BytesIO(image_data))\n",
    "            img.show()\n",
    "    else:\n",
    "        print(\"Image is not found.\")\n",
    "\n",
    "show_image_by_id(image_url_df, 4, True)"
   ]
  },
  {
   "cell_type": "code",
   "execution_count": 8,
   "metadata": {
    "collapsed": true
   },
   "outputs": [],
   "source": [
    "def save_image_batch(image_dataframe, dest, id_start_from=1):\n",
    "    \"\"\"This function show image in batch.\n",
    "    \n",
    "    :param image_dataframe: a data frame contains image id and image url.\n",
    "    :type image_dataframe: pandas data frame\n",
    "    :param dest: dest possible values: [\"train\",\"test\",\"validation\"]\n",
    "    :type dest: str\n",
    "    :param id_start_from: image id starts from, has to be positive integer.\n",
    "    :type id_start_from: int\n",
    "    :returns: \n",
    "    \n",
    "    \"\"\"\n",
    "    num_image = image_dataframe.shape[0]\n",
    "    if dest == \"train\":\n",
    "        saving_path = IMAGE_PATH + \"train/\"\n",
    "    elif dest == \"test\":\n",
    "        saving_path = IMAGE_PATH + \"test/\"\n",
    "    elif dest == \"validation\":\n",
    "        saving_path = IMAGE_PATH + \"validation/\"\n",
    "    else:\n",
    "        raise ValueError(\"invalid destination arg.\")\n",
    "\n",
    "    for idx in range(id_start_from-1, num_image):\n",
    "        image_id = idx + 1\n",
    "        url = image_dataframe.iloc[idx]['url']\n",
    "\n",
    "        original_image_name = url.rsplit('/', 1)[1]\n",
    "        retry = 0\n",
    "        image_retrieved = True\n",
    "        while retry < MAX_RETRY:\n",
    "            try:\n",
    "                image_data = requests.get(url,timeout=10).content\n",
    "                break\n",
    "            except:\n",
    "                retry += 1\n",
    "                print(\"Connection refused by the server..\")\n",
    "                print(\"Let me sleep for 5 seconds\")\n",
    "                print(\"ZZzzzz...\")\n",
    "                time.sleep(5)\n",
    "                print(\"Was a nice sleep, now let me continue...\")\n",
    "                if retry == MAX_RETRY:\n",
    "                    image_retrieved = False\n",
    "                    print(\"Failed to get {}.jpg\".format(image_id))\n",
    "                continue\n",
    "\n",
    "        if image_retrieved == True:\n",
    "            new_image_name = str(image_id) + '.jpg'\n",
    "            new_image_path = saving_path + new_image_name\n",
    "\n",
    "            with open(new_image_path, 'wb') as handler:\n",
    "                handler.write(image_data)\n",
    "            print(\"Saved image: {} as {}.\".format(original_image_name,\n",
    "                                                  new_image_name))\n"
   ]
  },
  {
   "cell_type": "code",
   "execution_count": 7,
   "metadata": {},
   "outputs": [
    {
     "name": "stdout",
     "output_type": "stream",
     "text": [
      "Connection refused by the server..\n",
      "Let me sleep for 5 seconds\n",
      "ZZzzzz...\n",
      "Was a nice sleep, now let me continue...\n",
      "Connection refused by the server..\n",
      "Let me sleep for 5 seconds\n",
      "ZZzzzz...\n",
      "Was a nice sleep, now let me continue...\n",
      "Connection refused by the server..\n",
      "Let me sleep for 5 seconds\n",
      "ZZzzzz...\n",
      "Was a nice sleep, now let me continue...\n"
     ]
    },
    {
     "ename": "UnboundLocalError",
     "evalue": "local variable 'image_data' referenced before assignment",
     "output_type": "error",
     "traceback": [
      "\u001b[0;31m---------------------------------------------------------------------------\u001b[0m",
      "\u001b[0;31mUnboundLocalError\u001b[0m                         Traceback (most recent call last)",
      "\u001b[0;32m<ipython-input-7-2cc1c422e5f4>\u001b[0m in \u001b[0;36m<module>\u001b[0;34m()\u001b[0m\n\u001b[1;32m      1\u001b[0m \u001b[0;31m# save training image\u001b[0m\u001b[0;34m\u001b[0m\u001b[0;34m\u001b[0m\u001b[0m\n\u001b[0;32m----> 2\u001b[0;31m \u001b[0msave_image_batch\u001b[0m\u001b[0;34m(\u001b[0m\u001b[0mimage_url_df\u001b[0m\u001b[0;34m,\u001b[0m\u001b[0;34m\"train\"\u001b[0m\u001b[0;34m,\u001b[0m\u001b[0;36m293\u001b[0m\u001b[0;34m)\u001b[0m\u001b[0;34m\u001b[0m\u001b[0m\n\u001b[0m",
      "\u001b[0;32m<ipython-input-5-893377facc68>\u001b[0m in \u001b[0;36msave_image_batch\u001b[0;34m(image_dataframe, dest, id_start_from)\u001b[0m\n\u001b[1;32m     44\u001b[0m \u001b[0;34m\u001b[0m\u001b[0m\n\u001b[1;32m     45\u001b[0m         \u001b[0;32mwith\u001b[0m \u001b[0mopen\u001b[0m\u001b[0;34m(\u001b[0m\u001b[0mnew_image_path\u001b[0m\u001b[0;34m,\u001b[0m \u001b[0;34m'wb'\u001b[0m\u001b[0;34m)\u001b[0m \u001b[0;32mas\u001b[0m \u001b[0mhandler\u001b[0m\u001b[0;34m:\u001b[0m\u001b[0;34m\u001b[0m\u001b[0m\n\u001b[0;32m---> 46\u001b[0;31m             \u001b[0mhandler\u001b[0m\u001b[0;34m.\u001b[0m\u001b[0mwrite\u001b[0m\u001b[0;34m(\u001b[0m\u001b[0mimage_data\u001b[0m\u001b[0;34m)\u001b[0m\u001b[0;34m\u001b[0m\u001b[0m\n\u001b[0m\u001b[1;32m     47\u001b[0m         print(\"Saved image: {} as {}.\".format(original_image_name,\n\u001b[1;32m     48\u001b[0m                                               new_image_name))\n",
      "\u001b[0;31mUnboundLocalError\u001b[0m: local variable 'image_data' referenced before assignment"
     ]
    }
   ],
   "source": [
    "# save training image\n",
    "save_image_batch(image_url_df,\"train\",293)"
   ]
  }
 ],
 "metadata": {
  "kernelspec": {
   "display_name": "Python [default]",
   "language": "python",
   "name": "python3"
  },
  "language_info": {
   "codemirror_mode": {
    "name": "ipython",
    "version": 3
   },
   "file_extension": ".py",
   "mimetype": "text/x-python",
   "name": "python",
   "nbconvert_exporter": "python",
   "pygments_lexer": "ipython3",
   "version": "3.5.3"
  }
 },
 "nbformat": 4,
 "nbformat_minor": 2
}
