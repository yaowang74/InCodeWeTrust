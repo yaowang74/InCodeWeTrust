{
 "cells": [
  {
   "cell_type": "code",
   "execution_count": null,
   "metadata": {},
   "outputs": [],
   "source": [
    "\"\"\"A script to handle kaggle FGVC5 json files\n",
    "\n",
    "   moduleauthor:: InCodeWeTrust\n",
    "\n",
    "\"\"\"\n",
    "\n",
    "import requests\n",
    "import json\n",
    "import pandas as pd\n",
    "# from PIL import Image\n",
    "# from io import BytesIO\n",
    "\n",
    "JSON_FILE_PATH = \"C:/Users/H211803/Documents/github/InCodeWeTrust/project_FGVC5/data/input/\"\n",
    "IMAGE_PATH = \"C:/Users/H211803/Documents/github/InCodeWeTrust/project_FGVC5/data/working/\"\n",
    "TRAIN_FILE_NAME = \"train.json\"\n",
    "TEST_FILE_NAME = \"test.json\"\n",
    "VALI_FILE_NAME = \"validation.json\"\n",
    "\n",
    "train_image_file = JSON_FILE_PATH + TRAIN_FILE_NAME\n",
    "# print(image_url_file)"
   ]
  },
  {
   "cell_type": "code",
   "execution_count": null,
   "metadata": {},
   "outputs": [],
   "source": [
    "def parse_json(json_file, json_key):\n",
    "    \"\"\"This function extracts image urls from json file.\n",
    "    \n",
    "    :param json_file: the full path of json file\n",
    "    :type name: str\n",
    "    :param json_key: component to be extract from input json file. \n",
    "                Possible values are ['images','annotation'].\n",
    "    :type json_key: str\n",
    "    :returns: pandas data frame with image id and url.\n",
    "    \n",
    "    \"\"\"\n",
    "    with open(train_image_file, 'r') as f:\n",
    "        image_dict = json.load(f)\n",
    "    print(image_dict.keys())\n",
    "\n",
    "    if (json_key not in ['images','annotations']):\n",
    "        raise ValueError(\"Invalid input argument: json_key.\")\n",
    "    if (json_key == 'images'):\n",
    "        image_url_df = pd.DataFrame(image_dict['images'])\n",
    "        image_url_df.url = image_url_df.url.apply(lambda x: x[0])\n",
    "        print(image_url_df.head())\n",
    "        return image_url_df\n",
    "    elif (json_key == 'annotations'):\n",
    "        image_annotation_df = pd.DataFrame(image_dict['annotations'])\n",
    "        print(image_annotation_df.head())\n",
    "        return image_annotation_df\n"
   ]
  },
  {
   "cell_type": "code",
   "execution_count": null,
   "metadata": {},
   "outputs": [],
   "source": [
    "image_url_df = parse_json(train_image_file, 'images')\n",
    "image_annotations_df = parse_json(train_image_file, 'annotations')"
   ]
  },
  {
   "cell_type": "code",
   "execution_count": null,
   "metadata": {},
   "outputs": [],
   "source": [
    "def show_image_by_id(image_dataframe, image_id, save = False):\n",
    "    \"\"\"This function show image by id.\n",
    "    \n",
    "    :param image_dataframe: a data frame contains image id and image url.\n",
    "    :type image_dataframe: pandas data frame\n",
    "    :param image_id: a positive integer that represents image id\n",
    "    :type image_id: integer\n",
    "    :parame save: boolean argument indicating if the image will be saved\n",
    "    :type save: boolean\n",
    "    :returns: image object\n",
    "    \n",
    "    \"\"\"\n",
    "    image_index = image_id - 1\n",
    "\n",
    "    url = image_dataframe.iloc[image_index]['url']\n",
    "    if url.find('/'):\n",
    "        original_image_name = url.rsplit('/', 1)[1]\n",
    "        image_data = requests.get(url).content\n",
    "        new_image_name = str(image_id) + '.jpg'\n",
    "        new_image_path = IMAGE_PATH + new_image_name\n",
    "        if (save):\n",
    "            with open(new_image_path, 'wb') as handler:\n",
    "                handler.write(image_data)\n",
    "            print(\"Saved image: {} as {}.\".format(original_image_name,\n",
    "                                                  new_image_name))\n",
    "        else:\n",
    "            img = Image.open(BytesIO(image_data))\n",
    "            img.show()\n",
    "    else:\n",
    "        print(\"Image is not found.\")\n",
    "\n",
    "show_image_by_id(image_url_df, 4, True)"
   ]
  },
  {
   "cell_type": "code",
   "execution_count": null,
   "metadata": {},
   "outputs": [],
   "source": [
    "def save_image_batch(image_dataframe):\n",
    "    \"\"\"This function show image in batch.\n",
    "    \n",
    "    :param image_dataframe: a data frame contains image id and image url.\n",
    "    :type image_dataframe: pandas data frame\n",
    "    :returns: \n",
    "    \n",
    "    \"\"\"\n",
    "    num_image = image_dataframe.shape[0]\n",
    "    \n",
    "    for idx in range(num_image):\n",
    "        image_id = idx + 1\n",
    "        url = image_dataframe.iloc[idx]['url']\n",
    "\n",
    "        original_image_name = url.rsplit('/', 1)[1]\n",
    "        image_data = requests.get(url).content\n",
    "        new_image_name = str(image_id) + '.jpg'\n",
    "        new_image_path = IMAGE_PATH + new_image_name\n",
    "\n",
    "        with open(new_image_path, 'wb') as handler:\n",
    "            handler.write(image_data)\n",
    "        print(\"Saved image: {} as {}.\".format(original_image_name,\n",
    "                                              new_image_name))\n"
   ]
  }
 ],
 "metadata": {
  "kernelspec": {
   "display_name": "Python 3",
   "language": "python",
   "name": "python3"
  },
  "language_info": {
   "codemirror_mode": {
    "name": "ipython",
    "version": 3
   },
   "file_extension": ".py",
   "mimetype": "text/x-python",
   "name": "python",
   "nbconvert_exporter": "python",
   "pygments_lexer": "ipython3",
   "version": "3.6.5"
  }
 },
 "nbformat": 4,
 "nbformat_minor": 2
}
